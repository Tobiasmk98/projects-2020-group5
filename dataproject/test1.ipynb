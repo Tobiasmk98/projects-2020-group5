{
 "nbformat": 4,
 "nbformat_minor": 2,
 "metadata": {
  "language_info": {
   "name": "python",
   "codemirror_mode": {
    "name": "ipython",
    "version": 3
   },
   "version": "3.7.6-final"
  },
  "orig_nbformat": 2,
  "file_extension": ".py",
  "mimetype": "text/x-python",
  "name": "python",
  "npconvert_exporter": "python",
  "pygments_lexer": "ipython3",
  "version": 3,
  "kernelspec": {
   "name": "python3",
   "display_name": "Python 3"
  }
 },
 "cells": [
  {
   "cell_type": "markdown",
   "metadata": {},
   "source": [
    "Data analysis with data from the Federal Reserve Bank of st. Louis."
   ]
  },
  {
   "cell_type": "code",
   "execution_count": 19,
   "metadata": {},
   "outputs": [
    {
     "output_type": "stream",
     "name": "stdout",
     "text": "The autoreload extension is already loaded. To reload it, use:\n  %reload_ext autoreload\n"
    }
   ],
   "source": [
    "#importing packages \n",
    "import pandas as pd\n",
    "import matplotlib.pyplot as plt\n",
    "plt.style.use('seaborn-whitegrid')\n",
    "import ipywidgets as widgets\n",
    "import numpy as np\n",
    "import datetime\n",
    "from matplotlib_venn import venn2\n",
    "\n",
    "# autoreload modules when code is run\n",
    "%load_ext autoreload\n",
    "%autoreload 2\n",
    "\n",
    "import pandas_datareader"
   ]
  },
  {
   "cell_type": "markdown",
   "metadata": {},
   "source": [
    "importing tables from the FRED source, we have chosen 1-Year Treasury Constant Maturity Rate (DGS1), 10-Year Treasury Constant Maturity Rate (DGS10) and Wilshire 5000 Full Cap Price Index (Will5000prfc) where all the timeseries end in 25th of March 2020. Note the different starttime, this will be corrected for in the code later."
   ]
  },
  {
   "cell_type": "code",
   "execution_count": 4,
   "metadata": {},
   "outputs": [],
   "source": [
    "#importing timeseries\n",
    "rente_1 = pandas_datareader.data.DataReader('DGS1', 'fred', datetime.datetime(1962,1,1), datetime.datetime(2020,3,25))\n",
    "rente_10 = pandas_datareader.data.DataReader('DGS10', 'fred', datetime.datetime(1962,1,1), datetime.datetime(2020,3,25))\n",
    "sp500 = pandas_datareader.data.DataReader('Will5000prfc', 'fred', datetime.datetime(1970,1,1), datetime.datetime(2020,3,25))"
   ]
  },
  {
   "cell_type": "code",
   "execution_count": 5,
   "metadata": {},
   "outputs": [
    {
     "output_type": "execute_result",
     "data": {
      "text/plain": "            Will5000prfc\nDATE                    \n1970-12-31        830.27\n1971-01-01           NaN\n1971-01-04           NaN\n1971-01-05           NaN\n1971-01-06           NaN\n...                  ...\n2020-03-19      24064.36\n2020-03-20      23082.46\n2020-03-23      22463.62\n2020-03-24      24542.52\n2020-03-25      24878.59\n\n[12845 rows x 1 columns]",
      "text/html": "<div>\n<style scoped>\n    .dataframe tbody tr th:only-of-type {\n        vertical-align: middle;\n    }\n\n    .dataframe tbody tr th {\n        vertical-align: top;\n    }\n\n    .dataframe thead th {\n        text-align: right;\n    }\n</style>\n<table border=\"1\" class=\"dataframe\">\n  <thead>\n    <tr style=\"text-align: right;\">\n      <th></th>\n      <th>Will5000prfc</th>\n    </tr>\n    <tr>\n      <th>DATE</th>\n      <th></th>\n    </tr>\n  </thead>\n  <tbody>\n    <tr>\n      <th>1970-12-31</th>\n      <td>830.27</td>\n    </tr>\n    <tr>\n      <th>1971-01-01</th>\n      <td>NaN</td>\n    </tr>\n    <tr>\n      <th>1971-01-04</th>\n      <td>NaN</td>\n    </tr>\n    <tr>\n      <th>1971-01-05</th>\n      <td>NaN</td>\n    </tr>\n    <tr>\n      <th>1971-01-06</th>\n      <td>NaN</td>\n    </tr>\n    <tr>\n      <th>...</th>\n      <td>...</td>\n    </tr>\n    <tr>\n      <th>2020-03-19</th>\n      <td>24064.36</td>\n    </tr>\n    <tr>\n      <th>2020-03-20</th>\n      <td>23082.46</td>\n    </tr>\n    <tr>\n      <th>2020-03-23</th>\n      <td>22463.62</td>\n    </tr>\n    <tr>\n      <th>2020-03-24</th>\n      <td>24542.52</td>\n    </tr>\n    <tr>\n      <th>2020-03-25</th>\n      <td>24878.59</td>\n    </tr>\n  </tbody>\n</table>\n<p>12845 rows × 1 columns</p>\n</div>"
     },
     "metadata": {},
     "execution_count": 5
    }
   ],
   "source": [
    "rente_1\n",
    "rente_10\n",
    "sp500"
   ]
  },
  {
   "cell_type": "code",
   "execution_count": 13,
   "metadata": {},
   "outputs": [
    {
     "output_type": "execute_result",
     "data": {
      "text/plain": "            Will5000prfc  DGS1  DGS10\nDATE                                 \n1962-01-02           NaN  3.22   4.06\n1962-01-03           NaN  3.24   4.03\n1962-01-04           NaN  3.24   3.99\n1962-01-05           NaN  3.26   4.02\n1962-01-08           NaN  3.31   4.03",
      "text/html": "<div>\n<style scoped>\n    .dataframe tbody tr th:only-of-type {\n        vertical-align: middle;\n    }\n\n    .dataframe tbody tr th {\n        vertical-align: top;\n    }\n\n    .dataframe thead th {\n        text-align: right;\n    }\n</style>\n<table border=\"1\" class=\"dataframe\">\n  <thead>\n    <tr style=\"text-align: right;\">\n      <th></th>\n      <th>Will5000prfc</th>\n      <th>DGS1</th>\n      <th>DGS10</th>\n    </tr>\n    <tr>\n      <th>DATE</th>\n      <th></th>\n      <th></th>\n      <th></th>\n    </tr>\n  </thead>\n  <tbody>\n    <tr>\n      <th>1962-01-02</th>\n      <td>NaN</td>\n      <td>3.22</td>\n      <td>4.06</td>\n    </tr>\n    <tr>\n      <th>1962-01-03</th>\n      <td>NaN</td>\n      <td>3.24</td>\n      <td>4.03</td>\n    </tr>\n    <tr>\n      <th>1962-01-04</th>\n      <td>NaN</td>\n      <td>3.24</td>\n      <td>3.99</td>\n    </tr>\n    <tr>\n      <th>1962-01-05</th>\n      <td>NaN</td>\n      <td>3.26</td>\n      <td>4.02</td>\n    </tr>\n    <tr>\n      <th>1962-01-08</th>\n      <td>NaN</td>\n      <td>3.31</td>\n      <td>4.03</td>\n    </tr>\n  </tbody>\n</table>\n</div>"
     },
     "metadata": {},
     "execution_count": 13
    }
   ],
   "source": [
    "mellemregning = pd.merge(sp500,rente_1, how ='outer', left_index=True, right_index=True)\n",
    "\n",
    "samlet=pd.merge(mellemregning,rente_10, how ='outer', left_index=True, right_index=True)\n",
    "samlet.head()"
   ]
  },
  {
   "cell_type": "code",
   "execution_count": 18,
   "metadata": {},
   "outputs": [
    {
     "output_type": "execute_result",
     "data": {
      "text/plain": "              stocks  1y-treasure  10y-treasure\nDATE                                           \n1962-01-02       NaN         3.22          4.06\n1962-01-03       NaN         3.24          4.03\n1962-01-04       NaN         3.24          3.99\n1962-01-05       NaN         3.26          4.02\n1962-01-08       NaN         3.31          4.03\n...              ...          ...           ...\n2020-03-19  24064.36         0.20          1.12\n2020-03-20  23082.46         0.15          0.92\n2020-03-23  22463.62         0.17          0.76\n2020-03-24  24542.52         0.25          0.84\n2020-03-25  24878.59         0.19          0.88\n\n[15192 rows x 3 columns]",
      "text/html": "<div>\n<style scoped>\n    .dataframe tbody tr th:only-of-type {\n        vertical-align: middle;\n    }\n\n    .dataframe tbody tr th {\n        vertical-align: top;\n    }\n\n    .dataframe thead th {\n        text-align: right;\n    }\n</style>\n<table border=\"1\" class=\"dataframe\">\n  <thead>\n    <tr style=\"text-align: right;\">\n      <th></th>\n      <th>stocks</th>\n      <th>1y-treasure</th>\n      <th>10y-treasure</th>\n    </tr>\n    <tr>\n      <th>DATE</th>\n      <th></th>\n      <th></th>\n      <th></th>\n    </tr>\n  </thead>\n  <tbody>\n    <tr>\n      <th>1962-01-02</th>\n      <td>NaN</td>\n      <td>3.22</td>\n      <td>4.06</td>\n    </tr>\n    <tr>\n      <th>1962-01-03</th>\n      <td>NaN</td>\n      <td>3.24</td>\n      <td>4.03</td>\n    </tr>\n    <tr>\n      <th>1962-01-04</th>\n      <td>NaN</td>\n      <td>3.24</td>\n      <td>3.99</td>\n    </tr>\n    <tr>\n      <th>1962-01-05</th>\n      <td>NaN</td>\n      <td>3.26</td>\n      <td>4.02</td>\n    </tr>\n    <tr>\n      <th>1962-01-08</th>\n      <td>NaN</td>\n      <td>3.31</td>\n      <td>4.03</td>\n    </tr>\n    <tr>\n      <th>...</th>\n      <td>...</td>\n      <td>...</td>\n      <td>...</td>\n    </tr>\n    <tr>\n      <th>2020-03-19</th>\n      <td>24064.36</td>\n      <td>0.20</td>\n      <td>1.12</td>\n    </tr>\n    <tr>\n      <th>2020-03-20</th>\n      <td>23082.46</td>\n      <td>0.15</td>\n      <td>0.92</td>\n    </tr>\n    <tr>\n      <th>2020-03-23</th>\n      <td>22463.62</td>\n      <td>0.17</td>\n      <td>0.76</td>\n    </tr>\n    <tr>\n      <th>2020-03-24</th>\n      <td>24542.52</td>\n      <td>0.25</td>\n      <td>0.84</td>\n    </tr>\n    <tr>\n      <th>2020-03-25</th>\n      <td>24878.59</td>\n      <td>0.19</td>\n      <td>0.88</td>\n    </tr>\n  </tbody>\n</table>\n<p>15192 rows × 3 columns</p>\n</div>"
     },
     "metadata": {},
     "execution_count": 18
    }
   ],
   "source": [
    "samlet = samlet.rename(columns = {'Will5000prfc':'stocks','DGS1':'1y-treasure','DGS10':'10y-treasure'})\n",
    "samlet"
   ]
  },
  {
   "cell_type": "code",
   "execution_count": null,
   "metadata": {},
   "outputs": [],
   "source": []
  }
 ]
}