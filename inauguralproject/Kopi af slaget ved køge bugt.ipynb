{
 "nbformat": 4,
 "nbformat_minor": 2,
 "metadata": {
  "language_info": {
   "name": "python",
   "codemirror_mode": {
    "name": "ipython",
    "version": 3
   },
   "version": "3.7.4-final"
  },
  "orig_nbformat": 2,
  "file_extension": ".py",
  "mimetype": "text/x-python",
  "name": "python",
  "npconvert_exporter": "python",
  "pygments_lexer": "ipython3",
  "version": 3,
  "kernelspec": {
   "name": "python3",
   "display_name": "Python 3"
  }
 },
 "cells": [
  {
   "cell_type": "code",
   "execution_count": 11,
   "metadata": {},
   "outputs": [
    {
     "name": "stdout",
     "output_type": "stream",
     "text": "The autoreload extension is already loaded. To reload it, use:\n  %reload_ext autoreload\n"
    }
   ],
   "source": [
    "import numpy as np\n",
    "\n",
    "# autoreload modules when code is run\n",
    "%load_ext autoreload\n",
    "%autoreload 2\n",
    "\n",
    "# local modules\n"
   ]
  },
  {
   "cell_type": "code",
   "execution_count": 36,
   "metadata": {},
   "outputs": [],
   "source": [
    "money=1 #m\n",
    "v=10 #v\n",
    "frisch=0.3 #epsilon\n",
    "ltax=0.4 #tau_0\n",
    "ttax=0.1 #tau_1\n",
    "cutoff=0.4 #kappa\n",
    "w=0.5\n",
    "\n",
    "lstar = 0 \n",
    "cstar = 0 \n",
    "ustar = 0 "
   ]
  },
  {
   "cell_type": "code",
   "execution_count": 37,
   "metadata": {},
   "outputs": [],
   "source": [
    "def laboursupply(l,c,frisch,v):\n",
    "    #Returning utility from labour supply and consumption\n",
    "    u=np.log(c)-v*l**(1+1/frisch)/(1+1/frisch)\n",
    "    return (u)\n",
    "\n",
    "def budget_constraint(money,w,l,ltax,ttax,cutoff):\n",
    "    #Returning total resources in terms of wage less taxes and cash\n",
    "    budget=money+w*l-w*l*ltax-ttax*max((w*l-cutoff),0)\n",
    "    return budget"
   ]
  },
  {
   "cell_type": "code",
   "execution_count": 51,
   "metadata": {},
   "outputs": [],
   "source": [
    "from scipy import optimize\n",
    "\n",
    "#Objective function returning negative utility, to minimize\n",
    "def value_of_choice(l,w,frisch,v,ltax,ttax,cutoff):\n",
    "    c=budget_constraint(money,w,l,ltax,ttax,cutoff)\n",
    "    return -laboursupply(l,c,frisch,v)\n",
    "\n",
    "def optimiser(w,frisch,v,ltax,ttax,cutoff,money):\n",
    "    #Call the solver\n",
    "    sol_case1 = optimize.minimize_scalar(\n",
    "        value_of_choice,method='bounded',\n",
    "        bounds=(0,1),args=(w,frisch,v,ltax,ttax,cutoff))\n",
    "\n",
    "    #Return optimal labour supply and consumption\n",
    "    lstar = sol_case1.x\n",
    "    cstar = budget_constraint(money,w,lstar,ltax,ttax,cutoff)\n",
    "    ustar = laboursupply(lstar,cstar,frisch,v)\n",
    "    return [lstar,cstar,ustar]\n",
    "\n",
    "lstar = optimiser(w,frisch,v,ltax,ttax,cutoff,money)[0]\n",
    "cstar = optimiser(w,frisch,v,ltax,ttax,cutoff,money)[1]\n",
    "ustar = optimiser(w,frisch,v,ltax,ttax,cutoff,money)[2]\n",
    "\n",
    "def printsolution(w,frisch,v,ltax,ttax,cutoff,money):\n",
    "    print(f'Optimal labour supply is: {lstar:.3f}')\n",
    "    print(f'Optimal consumption is: {cstar:.3f}')\n",
    "    print(f'yielding a utility of: {ustar:.3f}')"
   ]
  },
  {
   "cell_type": "code",
   "execution_count": 52,
   "metadata": {},
   "outputs": [
    {
     "name": "stdout",
     "output_type": "stream",
     "text": "Optimal labour supply is: 0.339\nOptimal consumption is: 1.102\nyielding a utility of: 0.076\n"
    }
   ],
   "source": [
    "printsolution(w,frisch,v,ltax,ttax,cutoff,money)"
   ]
  },
  {
   "cell_type": "code",
   "execution_count": null,
   "metadata": {},
   "outputs": [],
   "source": []
  }
 ]
}