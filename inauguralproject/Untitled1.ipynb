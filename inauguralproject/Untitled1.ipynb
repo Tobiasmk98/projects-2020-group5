{
 "cells": [
  {
   "cell_type": "code",
   "execution_count": 65,
   "metadata": {},
   "outputs": [],
   "source": [
    "import numpy as np\n",
    "def u_func(c,l,v,e):\n",
    "    return np.log(c) - v*(l**(1+1/e))/(1+1/e)"
   ]
  },
  {
   "cell_type": "code",
   "execution_count": 66,
   "metadata": {},
   "outputs": [],
   "source": [
    "\n",
    "\n",
    "def u_find_best_choice(m,v,e,kappa,tau1,tau0,w,x,N1,N2,do_print=True):\n",
    "    \n",
    "    shape_tuple = (N1,N2)\n",
    "    c_values = np.empty(shape_tuple)\n",
    "    l_values = np.empty(shape_tuple)\n",
    "    u_values = np.empty(shape_tuple)\n",
    "    \n",
    "    # b. start from guess of c=l=0\n",
    "    c_best = 0.1\n",
    "    l_best = 0\n",
    "    u_best = u_func(0,0,v,e)\n",
    "    \n",
    "    # c. loop through all possibilities\n",
    "    for i in range(N1):\n",
    "        for j in range(N2):\n",
    "            \n",
    "            # i. x1 and x2 (chained assignment)\n",
    "            c_values[i,j] = c = (x/(N1))\n",
    "            l_values[i,j] = l = (1/(N2))\n",
    "\n",
    "            if m + w * l - (tau0 * w * l + tau1 * np.fmax(w * l - kappa, 0)) == x: \n",
    "                u_values[i,j] = u_func(c,l,e,v)\n",
    "            else: # u(0,0) if expenditures > income\n",
    "                u_values[i,j] = u_func(0.1,0,e,v)\n",
    "            \n",
    "            # iii. check if best sofar, updating the \"best-values\", if the combination of consumption of x1 and x2 differs from the original consumption combination. \n",
    "            if u_values[i,j] > u_best:\n",
    "                c_best = c_values[i,j]\n",
    "                l_best = l_values[i,j] \n",
    "                u_best = u_values[i,j]\n",
    "                \n",
    "       \n",
    "\n",
    "\n",
    "    \n",
    "    \n",
    "        "
   ]
  },
  {
   "cell_type": "code",
   "execution_count": 67,
   "metadata": {},
   "outputs": [
    {
     "name": "stderr",
     "output_type": "stream",
     "text": [
      "C:\\Users\\estoj\\Anaconda3\\lib\\site-packages\\ipykernel_launcher.py:3: RuntimeWarning: divide by zero encountered in log\n",
      "  This is separate from the ipykernel package so we can avoid doing imports until\n"
     ]
    }
   ],
   "source": [
    "sol = u_find_best_choice(m=0,v=20,e=0.25,kappa=3,tau1=0.5,tau0=0.4,w=1,x=2,N1=500,N2=400)"
   ]
  }
 ],
 "metadata": {
  "kernelspec": {
   "display_name": "Python 3",
   "language": "python",
   "name": "python3"
  },
  "language_info": {
   "codemirror_mode": {
    "name": "ipython",
    "version": 3
   },
   "file_extension": ".py",
   "mimetype": "text/x-python",
   "name": "python",
   "nbconvert_exporter": "python",
   "pygments_lexer": "ipython3",
   "version": "3.7.4"
  }
 },
 "nbformat": 4,
 "nbformat_minor": 4
}
