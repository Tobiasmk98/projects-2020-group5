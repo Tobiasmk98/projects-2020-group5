{
 "cells": [
  {
   "cell_type": "code",
   "execution_count": 37,
   "metadata": {},
   "outputs": [],
   "source": [
    "import numpy as np\n",
    "def u_func(c,l,v,e):\n",
    "    return np.log(c) - v*(l**(1+1/e))/(1+(1/e))"
   ]
  },
  {
   "cell_type": "code",
   "execution_count": 1,
   "metadata": {},
   "outputs": [],
   "source": [
    "john = 1"
   ]
  },
  {
   "cell_type": "code",
   "execution_count": 63,
   "metadata": {},
   "outputs": [],
   "source": [
    "def u_find_best_choice(m,v,e,kappa,tau1,tau0,w,x,N1,N2,do_print=True):\n",
    "    \n",
    "    shape_tuple = (N1,N2)\n",
    "    c_values = np.empty(shape_tuple)\n",
    "    l_values = np.empty(shape_tuple)\n",
    "    u_values = np.empty(shape_tuple)\n",
    "    \n",
    "    # b. start from guess of c=l=0\n",
    "    c_best = 0\n",
    "    l_best = 0\n",
    "    u_best = u_func(0,0,v,e)\n",
    "    \n",
    "    # c. loop through all possibilities\n",
    "    for i in range(N1):\n",
    "        for j in range(N2):\n",
    "            \n",
    "            # i. x1 and x2 (chained assignment)\n",
    "            c_values[i,j] = c = (x/N1)\n",
    "            l_values[i,j] = l = (1/(N2))\n",
    "\n",
    "            if m + w * l - (tau0 * w * l + tau1 * np.fmax(w * l - kappa, 0)) <= x: \n",
    "                u_values[i,j] = u_func(c,l,e,v)\n",
    "            else: # u(0,0) if expenditures > income\n",
    "                u_values[i,j] = u_func(0,0,e,v)\n",
    "            \n",
    "            # iii. check if best sofar, updating the \"best-values\", if the combination of consumption of x1 and x2 differs from the original consumption combination. \n",
    "            if u_values[i,j] > u_best:\n",
    "                c_best = c_values[i,j]\n",
    "                l_best = l_values[i,j] \n",
    "                u_best = u_values[i,j]            \n",
    "           \n",
    "    # d. print\n",
    "    if do_print:\n",
    "        print_solution(c_best,l_best,u_best,w,x)\n",
    "\n",
    "    return c_best,l_best,u_best,c_values,l_values,u_values\n",
    "\n",
    "# function for printing the solution\n",
    "def print_solution(c,l,u,w,x):\n",
    "    print(f'c = {c:.8f}')\n",
    "    print(f'l = {l:.8f}')\n",
    "    print(f'u  = {u:.8f}')\n",
    "    print(f'c-x = {c-x:.8f}') \n",
    "\n",
    "\n",
    "    \n",
    "    \n",
    "        "
   ]
  },
  {
   "cell_type": "code",
   "execution_count": 64,
   "metadata": {},
   "outputs": [
    {
     "name": "stderr",
     "output_type": "stream",
     "text": [
      "C:\\Users\\estoj\\Anaconda3\\lib\\site-packages\\ipykernel_launcher.py:3: RuntimeWarning: divide by zero encountered in log\n",
      "  This is separate from the ipykernel package so we can avoid doing imports until\n"
     ]
    },
    {
     "name": "stdout",
     "output_type": "stream",
     "text": [
      "c = 0.20000000\n",
      "l = 0.00250000\n",
      "u  = -1.60981242\n",
      "c-x = -99.80000000\n",
      "(0.2, 0.0025, -1.6098124217102274, array([[0.2, 0.2, 0.2, ..., 0.2, 0.2, 0.2],\n",
      "       [0.2, 0.2, 0.2, ..., 0.2, 0.2, 0.2],\n",
      "       [0.2, 0.2, 0.2, ..., 0.2, 0.2, 0.2],\n",
      "       ...,\n",
      "       [0.2, 0.2, 0.2, ..., 0.2, 0.2, 0.2],\n",
      "       [0.2, 0.2, 0.2, ..., 0.2, 0.2, 0.2],\n",
      "       [0.2, 0.2, 0.2, ..., 0.2, 0.2, 0.2]]), array([[0.0025, 0.0025, 0.0025, ..., 0.0025, 0.0025, 0.0025],\n",
      "       [0.0025, 0.0025, 0.0025, ..., 0.0025, 0.0025, 0.0025],\n",
      "       [0.0025, 0.0025, 0.0025, ..., 0.0025, 0.0025, 0.0025],\n",
      "       ...,\n",
      "       [0.0025, 0.0025, 0.0025, ..., 0.0025, 0.0025, 0.0025],\n",
      "       [0.0025, 0.0025, 0.0025, ..., 0.0025, 0.0025, 0.0025],\n",
      "       [0.0025, 0.0025, 0.0025, ..., 0.0025, 0.0025, 0.0025]]), array([[-1.60981242, -1.60981242, -1.60981242, ..., -1.60981242,\n",
      "        -1.60981242, -1.60981242],\n",
      "       [-1.60981242, -1.60981242, -1.60981242, ..., -1.60981242,\n",
      "        -1.60981242, -1.60981242],\n",
      "       [-1.60981242, -1.60981242, -1.60981242, ..., -1.60981242,\n",
      "        -1.60981242, -1.60981242],\n",
      "       ...,\n",
      "       [-1.60981242, -1.60981242, -1.60981242, ..., -1.60981242,\n",
      "        -1.60981242, -1.60981242],\n",
      "       [-1.60981242, -1.60981242, -1.60981242, ..., -1.60981242,\n",
      "        -1.60981242, -1.60981242],\n",
      "       [-1.60981242, -1.60981242, -1.60981242, ..., -1.60981242,\n",
      "        -1.60981242, -1.60981242]]))\n"
     ]
    }
   ],
   "source": [
    "sol = u_find_best_choice(m=1,v=10,e=0.3,kappa=0.4,tau1=0.1,tau0=0.4,x=100,w=1,N1=500,N2=400)\n",
    "print(sol)"
   ]
  },
  {
   "cell_type": "code",
   "execution_count": 96,
   "metadata": {},
   "outputs": [],
   "source": [
    "money=1 #m\n",
    "v=10 #v\n",
    "frisch=0.3 #epsilon\n",
    "ltax=0.4 #tau_0\n",
    "ttax=0.1 #tau_1\n",
    "cutoff=0.4 #kappa\n",
    "w=0.5"
   ]
  },
  {
   "cell_type": "code",
   "execution_count": 97,
   "metadata": {},
   "outputs": [],
   "source": [
    "def laboursupply(l,c,frisch,v):\n",
    "    #Returning utility from labour supply and consumption\n",
    "    u=np.log(c)-v*l**(1+1/frisch)/(1+1/frisch)\n",
    "    return (u)\n",
    "\n",
    "def budget_constraint(money,w,l,ltax,ttax,cutoff):\n",
    "    #Returning total resources in terms of wage less taxes and cash\n",
    "    budget=money+w*l-w*l*ltax-ttax*max((w*l-cutoff),0)\n",
    "    return budget"
   ]
  },
  {
   "cell_type": "code",
   "execution_count": 99,
   "metadata": {},
   "outputs": [],
   "source": [
    "from scipy import optimize\n",
    "\n",
    "#Objective function returning negative utility, to minimize\n",
    "def value_of_choice(l,w,frisch,v,ltax,ttax,cutoff):\n",
    "    c=budget_constraint(money,w,l,ltax,ttax,cutoff)\n",
    "    return -laboursupply(l,c,frisch,v)\n",
    "\n",
    "def optimiser(w,frisch,v,ltax,ttax,cutoff,money):\n",
    "    #Call the solver\n",
    "    sol_case1 = optimize.minimize_scalar(\n",
    "        value_of_choice,method='bounded',\n",
    "        bounds=(0,1),args=(w,frisch,v,ltax,ttax,cutoff))\n",
    "\n",
    "    #Return optimal labour supply and consumption\n",
    "    lstar = sol_case1.x\n",
    "    cstar = budget_constraint(money,w,lstar,ltax,ttax,cutoff)\n",
    "    ustar = laboursupply(lstar,cstar,frisch,v)\n",
    "    return [lstar,cstar,ustar]\n",
    "\n",
    "def printsolution(w,frisch,v,ltax,ttax,cutoff,money):\n",
    "    print(f'Optimal labour supply is: {lstar:.3f}')\n",
    "    print(f'Optimal consumption is: {cstar:.3f}')\n",
    "    print(f'yielding a utility of: {ustar:.3f}')\n"
   ]
  },
  {
   "cell_type": "code",
   "execution_count": 94,
   "metadata": {},
   "outputs": [
    {
     "ename": "NameError",
     "evalue": "name 'x' is not defined",
     "output_type": "error",
     "traceback": [
      "\u001b[1;31m---------------------------------------------------------------------------\u001b[0m",
      "\u001b[1;31mNameError\u001b[0m                                 Traceback (most recent call last)",
      "\u001b[1;32m<ipython-input-94-f0a716df9407>\u001b[0m in \u001b[0;36m<module>\u001b[1;34m\u001b[0m\n\u001b[1;32m----> 1\u001b[1;33m \u001b[0msol\u001b[0m \u001b[1;33m=\u001b[0m \u001b[0mu_find_best_choice\u001b[0m\u001b[1;33m(\u001b[0m\u001b[0mw\u001b[0m\u001b[1;33m,\u001b[0m\u001b[0mfrisch\u001b[0m\u001b[1;33m,\u001b[0m\u001b[0mv\u001b[0m\u001b[1;33m,\u001b[0m\u001b[0mltax\u001b[0m\u001b[1;33m,\u001b[0m\u001b[0mttax\u001b[0m\u001b[1;33m,\u001b[0m\u001b[0mcutoff\u001b[0m\u001b[1;33m,\u001b[0m\u001b[0mmoney\u001b[0m\u001b[1;33m,\u001b[0m\u001b[0mx\u001b[0m\u001b[1;33m,\u001b[0m\u001b[0mN1\u001b[0m\u001b[1;33m,\u001b[0m\u001b[0mN2\u001b[0m\u001b[1;33m)\u001b[0m\u001b[1;33m\u001b[0m\u001b[1;33m\u001b[0m\u001b[0m\n\u001b[0m\u001b[0;32m      2\u001b[0m \u001b[0mprint\u001b[0m\u001b[1;33m(\u001b[0m\u001b[0msol\u001b[0m\u001b[1;33m)\u001b[0m\u001b[1;33m\u001b[0m\u001b[1;33m\u001b[0m\u001b[0m\n",
      "\u001b[1;31mNameError\u001b[0m: name 'x' is not defined"
     ]
    }
   ],
   "source": []
  },
  {
   "cell_type": "code",
   "execution_count": 76,
   "metadata": {},
   "outputs": [
    {
     "data": {
      "image/png": "[encoded data removed]",
      "text/plain": [
       "<Figure size 720x288 with 2 Axes>"
      ]
     },
     "metadata": {},
     "output_type": "display_data"
    }
   ],
   "source": [
    "import matplotlib.pyplot as plt\n",
    "plt.style.use(\"seaborn\")\n",
    "\n",
    "N=1000\n",
    "w_vec=np.linspace(0.5,1.5,N)\n",
    "l_vec=np.empty(N)\n",
    "c_vec=np.empty(N)\n",
    "for i,w in enumerate(w_vec):\n",
    "    bundle=optimiser(w,frisch,v,ltax,ttax,cutoff,money)\n",
    "    l_vec[i]=bundle[0]\n",
    "    c_vec[i]=bundle[1]\n",
    "\n",
    "# a. create a figure\n",
    "fig = plt.figure(figsize=(10,4))\n",
    "\n",
    "# c. left plot\n",
    "ax_left = fig.add_subplot(1,2,1)\n",
    "\n",
    "ax_left.plot(w_vec,l_vec)\n",
    "\n",
    "ax_left.set_title('Optimal labour supply given wage')\n",
    "ax_left.set_xlabel('$w$')\n",
    "ax_left.set_ylabel('$l^\\star$')\n",
    "ax_left.grid(True)\n",
    "\n",
    "# c. right plot\n",
    "ax_right = fig.add_subplot(1,2,2)\n",
    "\n",
    "ax_right.plot(w_vec,c_vec)\n",
    "\n",
    "ax_right.set_title('Optimal consumption given wage')\n",
    "ax_right.set_xlabel('$w$')\n",
    "ax_right.set_ylabel('$c^\\star$')\n",
    "ax_right.grid(True)"
   ]
  }
 ],
 "metadata": {
  "kernelspec": {
   "display_name": "Python 3",
   "language": "python",
   "name": "python3"
  },
  "language_info": {
   "codemirror_mode": {
    "name": "ipython",
    "version": 3
   },
   "file_extension": ".py",
   "mimetype": "text/x-python",
   "name": "python",
   "nbconvert_exporter": "python",
   "pygments_lexer": "ipython3",
   "version": "3.7.4-final"
  }
 },
 "nbformat": 4,
 "nbformat_minor": 4
}