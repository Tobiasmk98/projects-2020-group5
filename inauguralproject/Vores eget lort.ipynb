{
 "cells": [
  {
   "cell_type": "code",
   "execution_count": 4,
   "metadata": {},
   "outputs": [],
   "source": [
    "import numpy as np\n",
    "def u_func(c,l,v,e):\n",
    "    return np.log(c) - v*(l**(1+1/e))/(1+(1/e))"
   ]
  },
  {
   "cell_type": "code",
   "execution_count": 1,
   "metadata": {},
   "outputs": [],
   "source": [
    "def u_find_best_choice(m,v,e,kappa,tau1,tau0,w,x,N1,N2,do_print=True):\n",
    "    \n",
    "    shape_tuple = (N1,N2)\n",
    "    c_values = np.empty(shape_tuple)\n",
    "    l_values = np.empty(shape_tuple)\n",
    "    u_values = np.empty(shape_tuple)\n",
    "    print(\"hello hello\")\n",
    "    # b. start from guess of c=l=0\n",
    "    c_best = 0\n",
    "    l_best = 0\n",
    "    u_best = u_func(0,0,v,e)\n",
    "    \n",
    "    # c. loop through all possibilities\n",
    "    for i in range(N1):\n",
    "        for j in range(N2):\n",
    "            \n",
    "            # i. x1 and x2 (chained assignment)\n",
    "            c_values[i,j] = c = (x/N1)\n",
    "            l_values[i,j] = l = (1/(N2))\n",
    "\n",
    "            if m + w * l - (tau0 * w * l + tau1 * np.fmax(w * l - kappa, 0)) <= x: \n",
    "                u_values[i,j] = u_func(c,l,e,v)\n",
    "            else: # u(0,0) if expenditures > income\n",
    "                u_values[i,j] = u_func(0,0,e,v)\n",
    "            \n",
    "            # iii. check if best sofar, updating the \"best-values\", if the combination of consumption of x1 and x2 differs from the original consumption combination. \n",
    "            if u_values[i,j] > u_best:\n",
    "                c_best = c_values[i,j]\n",
    "                l_best = l_values[i,j] \n",
    "                u_best = u_values[i,j]            \n",
    "           \n",
    "    # d. print\n",
    "    if do_print:\n",
    "        print_solution(c_best,l_best,u_best,w,x)\n",
    "\n",
    "    return c_best,l_best,u_best,c_values,l_values,u_values\n",
    "\n",
    "# function for printing the solution\n",
    "def print_solution(c,l,u,w,x):\n",
    "    print(f'c = {c:.8f}')\n",
    "    print(f'l = {l:.8f}')\n",
    "    print(f'u  = {u:.8f}')\n",
    "    print(f'c-x = {c-x:.8f}') \n",
    "\n",
    "\n",
    "    \n",
    "    \n",
    "        "
   ]
  },
  {
   "cell_type": "code",
   "execution_count": 6,
   "metadata": {},
   "outputs": [
    {
     "name": "stdout",
     "output_type": "stream",
     "text": "hello world\nc = 0.20000000\nl = 0.00250000\nu  = -1.60981242\nc-x = -99.80000000\n(0.2, 0.0025, -1.6098124217102274, array([[0.2, 0.2, 0.2, ..., 0.2, 0.2, 0.2],\n       [0.2, 0.2, 0.2, ..., 0.2, 0.2, 0.2],\n       [0.2, 0.2, 0.2, ..., 0.2, 0.2, 0.2],\n       ...,\n       [0.2, 0.2, 0.2, ..., 0.2, 0.2, 0.2],\n       [0.2, 0.2, 0.2, ..., 0.2, 0.2, 0.2],\n       [0.2, 0.2, 0.2, ..., 0.2, 0.2, 0.2]]), array([[0.0025, 0.0025, 0.0025, ..., 0.0025, 0.0025, 0.0025],\n       [0.0025, 0.0025, 0.0025, ..., 0.0025, 0.0025, 0.0025],\n       [0.0025, 0.0025, 0.0025, ..., 0.0025, 0.0025, 0.0025],\n       ...,\n       [0.0025, 0.0025, 0.0025, ..., 0.0025, 0.0025, 0.0025],\n       [0.0025, 0.0025, 0.0025, ..., 0.0025, 0.0025, 0.0025],\n       [0.0025, 0.0025, 0.0025, ..., 0.0025, 0.0025, 0.0025]]), array([[-1.60981242, -1.60981242, -1.60981242, ..., -1.60981242,\n        -1.60981242, -1.60981242],\n       [-1.60981242, -1.60981242, -1.60981242, ..., -1.60981242,\n        -1.60981242, -1.60981242],\n       [-1.60981242, -1.60981242, -1.60981242, ..., -1.60981242,\n        -1.60981242, -1.60981242],\n       ...,\n       [-1.60981242, -1.60981242, -1.60981242, ..., -1.60981242,\n        -1.60981242, -1.60981242],\n       [-1.60981242, -1.60981242, -1.60981242, ..., -1.60981242,\n        -1.60981242, -1.60981242],\n       [-1.60981242, -1.60981242, -1.60981242, ..., -1.60981242,\n        -1.60981242, -1.60981242]]))\n"
    }
   ],
   "source": [
    "sol = u_find_best_choice(m=1,v=10,e=0.3,kappa=0.4,tau1=0.1,tau0=0.4,x=100,w=1,N1=500,N2=400)\n",
    "print(sol)"
   ]
  },
  {
   "cell_type": "code",
   "execution_count": null,
   "metadata": {},
   "outputs": [],
   "source": []
  }
 ],
 "metadata": {
  "kernelspec": {
   "display_name": "Python 3",
   "language": "python",
   "name": "python3"
  },
  "language_info": {
   "codemirror_mode": {
    "name": "ipython",
    "version": 3
   },
   "file_extension": ".py",
   "mimetype": "text/x-python",
   "name": "python",
   "nbconvert_exporter": "python",
   "pygments_lexer": "ipython3",
   "version": "3.8.1-final"
  }
 },
 "nbformat": 4,
 "nbformat_minor": 4
}