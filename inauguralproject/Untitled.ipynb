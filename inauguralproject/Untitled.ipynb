{
 "cells": [
  {
   "cell_type": "code",
   "execution_count": 2,
   "metadata": {},
   "outputs": [
    {
     "name": "stdout",
     "output_type": "stream",
     "text": [
      "1\n"
     ]
    }
   ],
   "source": [
    "import numpy as np\n",
    "from scipy import optimize\n",
    "\n",
    "# autoreload modules when code is run\n",
    "%load_ext autoreload\n",
    "%autoreload 2\n",
    "\n",
    "# local modules\n",
    "import inauguralproject"
   ]
  },
  {
   "cell_type": "code",
   "execution_count": null,
   "metadata": {},
   "outputs": [],
   "source": [
    "#Question 1"
   ]
  },
  {
   "cell_type": "code",
   "execution_count": null,
   "metadata": {},
   "outputs": [],
   "source": [
    "#We solve the model by scipy-optimization.\n",
    "\n",
    "#First, we define the relevant variables. \n",
    "\n",
    "#Second, we define our utility function and budget constraint as functions. The utility function returns the utility from the given inputs - this is what we want to optimize. The budget-constraint returns the budget given the values herein. \n",
    "\n",
    "#Third, we define a decision-function, returning the utility, given our knowledge, that consumption equals the budget.\n",
    "\n",
    "#Fourth, we define our optimization-function. Here, we optimize the decision-function for labor, given all the other values. This returns the optimal labor, which enables us to calculate the consumption and utility of the consumer. "
   ]
  },
  {
   "cell_type": "code",
   "execution_count": null,
   "metadata": {},
   "outputs": [],
   "source": [
    "#Defining variables:\n",
    "m=1 #money\n",
    "v=10 #v\n",
    "e=0.3 #frisch\n",
    "tau_0=0.4 #ltax\n",
    "tau_1=0.1 #ttax\n",
    "kappa=0.4 #cutoff\n",
    "w=0.5\n",
    "params=[tau_1,tau_0, kappa]\n",
    "# Defining utility function and budget constraint:\n",
    "def utility(l,c,e,v):\n",
    "    # Returning utility from labour supply and consumption\n",
    "    u=np.log(c)-v*l**(1+1/e)/(1+1/e)\n",
    "    return u\n",
    "\n",
    "def budget_constraint(m,w,l,params):\n",
    "    # Returning total resources in terms of wage less taxes and cash\n",
    "    budget=m+w*l-w*l*tau_0-tau_1*max((w*l-kappa),0)\n",
    "    return budget\n",
    "\n",
    "# Defining a function, setting consumption equal to budget (as we know, the consumer chooses to spend entire budget.),\n",
    "# Making this function return the utility, while c = m (negatively, as scipy only can minimize).\n",
    "# This is what we want to optimize.\n",
    "def decision(l,w,e,v,params):\n",
    "    c=budget_constraint(m,w,l,params)\n",
    "    return -utility(l,c,e,v)\n",
    "\n",
    "# Defining the optimizer-function, optimizing the consumer's decision function for l, given all other values in decision.\n",
    "def optimizer(w,e,v,params,m):\n",
    "    # Call the solver\n",
    "    sol_case1 = optimize.minimize_scalar(\n",
    "        decision,method='bounded',\n",
    "        bounds=(0,1),args=(w,e,v,params))\n",
    "\n",
    "    # Making the optimizer-function create a list of the three solution-values, l, c, and u.\n",
    "    # Optimal labor equals the optimized solution in the function:\n",
    "    lstar = sol_case1.x\n",
    "\n",
    "    # Optimal consumption equals the budget constraint-function as we know, given the optimal l.\n",
    "    cstar = budget_constraint(m,w,lstar,params)\n",
    "\n",
    "    # Optimal utility must then be equal to the utility function given optimal l and c.\n",
    "    ustar = utility(lstar,cstar,e,v)\n",
    "    return [lstar,cstar,ustar]\n",
    "\n",
    "# Draws out variables from the optimizer-list.\n",
    "lstar = optimizer(w,e,v,params,m)[0]\n",
    "cstar = optimizer(w,e,v,params,m)[1]\n",
    "ustar = optimizer(w,e,v,params,m)[2]\n",
    "\n",
    "def printsolution(w,e,v,params,m):\n",
    "    print(f'Labour supply: {lstar:.3f}')\n",
    "    print(f'Consumption: {cstar:.3f}')\n",
    "    print(f'Utility: {ustar:.3f}')\n",
    "\n",
    "printsolution(w,e,v,params,m)"
   ]
  },
  {
   "cell_type": "code",
   "execution_count": null,
   "metadata": {},
   "outputs": [],
   "source": [
    "# Question 2"
   ]
  },
  {
   "cell_type": "code",
   "execution_count": null,
   "metadata": {},
   "outputs": [],
   "source": [
    "#In this question we will visualize the findings of the optimal labour and level of consumption we calculated in the first question, dependent on the wage level. We see in the following graph the optimal labour supply and choice of consumption both vary positively with the level of wage, which is in line with microeconomic theory."
   ]
  },
  {
   "cell_type": "code",
   "execution_count": null,
   "metadata": {},
   "outputs": [],
   "source": [
    "#import plot package\n",
    "import matplotlib.pyplot as plt\n",
    "plt.style.use(\"seaborn-colorblind\")\n",
    "\n",
    "#Creating a wage vector with 10000 observations between 0.5 and 1.5\n",
    "#Looping through the wage vector and append the optimal labour and consumption in the empty vectors.\n",
    "N=10000\n",
    "w_vec=np.linspace(0.5,1.5,N)\n",
    "l_vec=np.empty(N)\n",
    "c_vec=np.empty(N)\n",
    "for i,w in enumerate(w_vec):\n",
    "    bundle=optimizer(w,e,v,params,m)\n",
    "    l_vec[i]=bundle[0]\n",
    "    c_vec[i]=bundle[1]\n",
    "\n",
    "# a. create a figure\n",
    "fig = plt.figure(figsize=(10,5))\n",
    "\n",
    "# b. left plot of the figure, with wage on the x-axis and labour on the y-axis\n",
    "ax_left = fig.add_subplot(1,2,1)\n",
    "\n",
    "ax_left.plot(w_vec,l_vec)\n",
    "#adding title and axis-labels\n",
    "ax_left.set_title('Optimal labour supply given wage')\n",
    "ax_left.set_xlabel('$w$')\n",
    "ax_left.set_ylabel('$l^\\star$')\n",
    "ax_left.grid(True)\n",
    "\n",
    "# c. right plot with wage on the x-axis and consumption on the y-axis\n",
    "ax_right = fig.add_subplot(1,2,2)\n",
    "\n",
    "ax_right.plot(w_vec,c_vec)\n",
    "#adding title and axis-labels\n",
    "ax_right.set_title('Optimal consumption given wage')\n",
    "ax_right.set_xlabel('$w$')\n",
    "ax_right.set_ylabel('$c^\\star$')\n",
    "ax_right.grid(True)\n",
    "#plotting the graph\n",
    "plt.show()"
   ]
  },
  {
   "cell_type": "code",
   "execution_count": null,
   "metadata": {},
   "outputs": [],
   "source": [
    "# Question 3"
   ]
  },
  {
   "cell_type": "code",
   "execution_count": null,
   "metadata": {},
   "outputs": [],
   "source": [
    "#In this problem we generate a sequence of 10000 random numbers from a uniform distribution to represent the individual wages of the 10000 people in the population. These numbers are saved to a list. We then create a for loop which appends the optimal amount of labour for each individual consumer given their wage and saves these to a list.\n",
    "#Lastly, we use a lambda function to compute the tax revenue given the parameters and the lists of wages and labour respectively. "
   ]
  },
  {
   "cell_type": "code",
   "execution_count": null,
   "metadata": {},
   "outputs": [],
   "source": [
    "#Creating the wage list based on a uniform distribution\n",
    "N=10000\n",
    "np.random.seed(1986)\n",
    "wi_vec=np.random.uniform(0.5,1.5,size=N)\n",
    "\n",
    "#Adding empty lists to append to\n",
    "l_vec=np.empty(N)\n",
    "c_vec=np.empty(N)\n",
    "\n",
    "#Loop appending the optimal amount of labour to a new list\n",
    "for i,w in enumerate(wi_vec):\n",
    "    bundle=optimizer(w,e,v,params,m)\n",
    "    l_vec[i]=bundle[0]\n",
    "\n",
    "#Lambda function calculation the tax revenue based on the two lists containing wages and optimal amounts of labour respectiely. \n",
    "tax_rev=lambda l_vec,wi_vec: tau_0*wi_vec*l_vec+tau_1*np.fmax(wi_vec*l_vec-kappa,0)\n",
    "tax=tax_rev(l_vec,wi_vec)\n",
    "\n",
    "print(np.sum(tax))"
   ]
  },
  {
   "cell_type": "code",
   "execution_count": null,
   "metadata": {},
   "outputs": [],
   "source": [
    "# Question 4"
   ]
  },
  {
   "cell_type": "code",
   "execution_count": null,
   "metadata": {},
   "outputs": [],
   "source": [
    "# This problem is entirely the same as the previous, only with a different value of the frisch labour supply of now 0.1, thus the agent has more inelastisc labour supply.\n",
    "#In exact difference in wage level will have less effect on the level of labour supply chosen by the agent.\n",
    "#This can also be seen in the result, where the tax revenue, as expected, increases."
   ]
  },
  {
   "cell_type": "code",
   "execution_count": null,
   "metadata": {},
   "outputs": [],
   "source": [
    "e=0.1\n",
    "N=10000\n",
    "np.random.seed(1986)\n",
    "wi_vec=np.random.uniform(0.5,1.5,size=N)\n",
    "l_vec=np.empty(N)\n",
    "c_vec=np.empty(N)\n",
    "for i,w in enumerate(wi_vec):\n",
    "    bundle=optimizer(w,e,v,params,m)\n",
    "    l_vec[i]=bundle[0]\n",
    "\n",
    "\n",
    "tax_rev=lambda l_vec,wi_vec: tau_0*wi_vec*l_vec+tau_1*np.fmax(wi_vec*l_vec-kappa,0)\n",
    "tax=tax_rev(l_vec,wi_vec)\n",
    "\n",
    "print(np.sum(tax))"
   ]
  },
  {
   "cell_type": "code",
   "execution_count": null,
   "metadata": {},
   "outputs": [],
   "source": [
    "# Question 5"
   ]
  },
  {
   "cell_type": "code",
   "execution_count": null,
   "metadata": {},
   "outputs": [],
   "source": [
    "#Here, we find the tax rates and tax cutoff, such that we maximize tax revenue given the consumer behavior. "
   ]
  },
  {
   "cell_type": "code",
   "execution_count": null,
   "metadata": {},
   "outputs": [],
   "source": [
    "#Optimerer mht. tau_0:\n",
    "def taxrev(tau_0,tau_1,wi_vec,l_vec,kappa):\n",
    "    \n",
    "    tax = np.sum(tau_0*wi_vec*l_vec+tau_1*np.fmax(wi_vec*l_vec-kappa,0))\n",
    "    return -tax\n",
    "\n",
    "def taxopt(wi_vec,tau_1,l_vec,kappa):\n",
    "    tauopt = optimize.minimize_scalar(\n",
    "        taxrev,method='bounded',\n",
    "        bounds=(0,1),args=(tau_1,wi_vec,l_vec,kappa))\n",
    "    løs = tauopt.x\n",
    "    return løs\n",
    "\n",
    "taxopt(tau_1,wi_vec,l_vec,kappa)"
   ]
  },
  {
   "cell_type": "code",
   "execution_count": null,
   "metadata": {},
   "outputs": [],
   "source": [
    "# Conclusion"
   ]
  },
  {
   "cell_type": "code",
   "execution_count": null,
   "metadata": {},
   "outputs": [],
   "source": [
    "#We solved the consumer problem, yielding the optimal labour and consumption maximizing utility of the agent. \n",
    "#Next, we calculated the expected tax revenue given the consumer preferences."
   ]
  },
  {
   "cell_type": "code",
   "execution_count": null,
   "metadata": {},
   "outputs": [],
   "source": [
    "#NY OPTIMERING I OPGAVE 5:\n",
    "def taxrev(params,wi_vec,l_vec):\n",
    "    tax = np.sum(tau_0*wi_vec*l_vec+tau_1*np.fmax(wi_vec*l_vec-kappa,0))\n",
    "    return -tax\n",
    "\n",
    "initial=[0.5,0.5,1000]\n",
    "\n",
    "\n",
    "def taxopt(wi_vec,l_vec,params):\n",
    "    tauopt = optimize.minimize(\n",
    "        taxrev(params,l_vec,wi_vec),initial, method='SLSQP',\n",
    "        bounds=[(0,1),(0,1),(0,None)])\n",
    "    løs = tauopt.x\n",
    "    return løs\n",
    "\n",
    "taxopt(wi_vec,l_vec,params)"
   ]
  }
 ],
 "metadata": {
  "kernelspec": {
   "display_name": "Python 3",
   "language": "python",
   "name": "python3"
  },
  "language_info": {
   "codemirror_mode": {
    "name": "ipython",
    "version": 3
   },
   "file_extension": ".py",
   "mimetype": "text/x-python",
   "name": "python",
   "nbconvert_exporter": "python",
   "pygments_lexer": "ipython3",
   "version": "3.7.4"
  }
 },
 "nbformat": 4,
 "nbformat_minor": 4
}
