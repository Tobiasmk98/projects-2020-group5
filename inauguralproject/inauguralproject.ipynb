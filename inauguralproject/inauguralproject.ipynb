{
 "cells": [
  {
   "cell_type": "markdown",
   "metadata": {},
   "source": [
    "# Inaugural Project"
   ]
  },
  {
   "cell_type": "markdown",
   "metadata": {},
   "source": [
    "> **Note the following:** \n",
    "> 1. This is an example of how to structure your **inaugural project**.\n",
    "> 1. Remember the general advice on structuring and commenting your code from [lecture 5](https://numeconcopenhagen.netlify.com/lectures/Workflow_and_debugging).\n",
    "> 1. Remember this [guide](https://www.markdownguide.org/basic-syntax/) on markdown and (a bit of) latex.\n",
    "> 1. Turn on automatic numbering by clicking on the small icon on top of the table of contents in the left sidebar.\n",
    "> 1. The `inauguralproject.py` file includes a function which can be used multiple times in this notebook."
   ]
  },
  {
   "cell_type": "markdown",
   "metadata": {},
   "source": [
    "Imports and set magics:"
   ]
  },
  {
   "cell_type": "code",
   "execution_count": 1,
   "metadata": {},
   "outputs": [],
   "source": [
    "import numpy as np\n",
    "from scipy import optimize\n",
    "\n",
    "# autoreload modules when code is run\n",
    "%load_ext autoreload\n",
    "%autoreload 2\n",
    "\n",
    "# local modules\n",
    "import inauguralproject"
   ]
  },
  {
   "cell_type": "markdown",
   "metadata": {
    "toc-hr-collapsed": true
   },
   "source": [
    "# Question 1"
   ]
  },
  {
   "cell_type": "markdown",
   "metadata": {},
   "source": [
    "We solve the model by scipy-optimization.\n",
    "\n",
    "First, we define the relevant variables. \n",
    "\n",
    "Second, we define our utility function and budget constraint as functions. The utility function returns the utility from the given inputs - this is what we want to optimize. The budget-constraint returns the budget given the values herein. \n",
    "\n",
    "Third, we define a decision-function, returning the utility, given our knowledge, that consumption equals the budget.\n",
    "\n",
    "Fourth, we define our optimization-function. Here, we optimize the decision-function for labor, given all the other values. This returns the optimal labor, which enables us to calculate the consumption and utility of the consumer. "
   ]
  },
  {
   "cell_type": "code",
   "execution_count": 2,
   "metadata": {},
   "outputs": [
    {
     "name": "stdout",
     "output_type": "stream",
     "text": "Labour supply: 0.339\nConsumption: 1.102\nUtility: 0.076\n"
    }
   ],
   "source": [
    "#Defining variables:\n",
    "m=1 #money\n",
    "v=10 #v\n",
    "e=0.3 #frisch\n",
    "tau_0=0.4 #ltax\n",
    "tau_1=0.1 #ttax\n",
    "kappa=0.4 #cutoff\n",
    "w=0.5\n",
    "params=[tau_1,tau_0, kappa]\n",
    "# Defining utility function and budget constraint:\n",
    "def utility(l,c,e,v):\n",
    "    # Returning utility from labour supply and consumption\n",
    "    u=np.log(c)-v*l**(1+1/e)/(1+1/e)\n",
    "    return u\n",
    "\n",
    "def budget_constraint(m,w,l,params):\n",
    "    # Returning total resources in terms of wage less taxes and cash\n",
    "    budget=m+w*l-w*l*tau_0-tau_1*max((w*l-kappa),0)\n",
    "    return budget\n",
    "\n",
    "# Defining a function, setting consumption equal to budget (as we know, the consumer chooses to spend entire budget.),\n",
    "# Making this function return the utility, while c = m (negatively, as scipy only can minimize).\n",
    "# This is what we want to optimize.\n",
    "def decision(l,w,e,v,params):\n",
    "    c=budget_constraint(m,w,l,params)\n",
    "    return -utility(l,c,e,v)\n",
    "\n",
    "# Defining the optimizer-function, optimizing the consumer's decision function for l, given all other values in decision.\n",
    "def optimizer(w,e,v,params,m):\n",
    "    # Call the solver\n",
    "    sol_case1 = optimize.minimize_scalar(\n",
    "        decision,method='bounded',\n",
    "        bounds=(0,1),args=(w,e,v,params))\n",
    "\n",
    "    # Making the optimizer-function create a list of the three solution-values, l, c, and u.\n",
    "    # Optimal labor equals the optimized solution in the function:\n",
    "    lstar = sol_case1.x\n",
    "\n",
    "    # Optimal consumption equals the budget constraint-function as we know, given the optimal l.\n",
    "    cstar = budget_constraint(m,w,lstar,params)\n",
    "\n",
    "    # Optimal utility must then be equal to the utility function given optimal l and c.\n",
    "    ustar = utility(lstar,cstar,e,v)\n",
    "    return [lstar,cstar,ustar]\n",
    "\n",
    "# Draws out variables from the optimizer-list.\n",
    "lstar = optimizer(w,e,v,params,m)[0]\n",
    "cstar = optimizer(w,e,v,params,m)[1]\n",
    "ustar = optimizer(w,e,v,params,m)[2]\n",
    "\n",
    "def printsolution(w,e,v,params,m):\n",
    "    print(f'Labour supply: {lstar:.3f}')\n",
    "    print(f'Consumption: {cstar:.3f}')\n",
    "    print(f'Utility: {ustar:.3f}')\n",
    "\n",
    "printsolution(w,e,v,params,m)\n"
   ]
  },
  {
   "cell_type": "markdown",
   "metadata": {},
   "source": [
    "# Question 2"
   ]
  },
  {
   "cell_type": "markdown",
   "metadata": {},
   "source": [
    "ADD ANSWER."
   ]
  },
  {
   "cell_type": "code",
   "execution_count": 4,
   "metadata": {},
   "outputs": [
    {
     "data": {
      "image/png": "[encoded data removed]",
      "text/plain": "<Figure size 720x360 with 2 Axes>"
     },
     "metadata": {
      "needs_background": "light"
     },
     "output_type": "display_data"
    }
   ],
   "source": [
    "import matplotlib.pyplot as plt\n",
    "plt.style.use(\"seaborn-colorblind\")\n",
    "\n",
    "N=1000\n",
    "w_vec=np.linspace(0.5,1.5,N)\n",
    "l_vec=np.empty(N)\n",
    "c_vec=np.empty(N)\n",
    "for i,w in enumerate(w_vec):\n",
    "    bundle=optimizer(w,e,v,params,m)\n",
    "    l_vec[i]=bundle[0]\n",
    "    c_vec[i]=bundle[1]\n",
    "\n",
    "# a. create a figure\n",
    "fig = plt.figure(figsize=(10,5))\n",
    "\n",
    "# c. left plot\n",
    "ax_left = fig.add_subplot(1,2,1)\n",
    "\n",
    "ax_left.plot(w_vec,l_vec)\n",
    "\n",
    "ax_left.set_title('Optimal labour supply given wage')\n",
    "ax_left.set_xlabel('$w$')\n",
    "ax_left.set_ylabel('$l^\\star$')\n",
    "ax_left.grid(True)\n",
    "\n",
    "# c. right plot\n",
    "ax_right = fig.add_subplot(1,2,2)\n",
    "\n",
    "ax_right.plot(w_vec,c_vec)\n",
    "\n",
    "ax_right.set_title('Optimal consumption given wage')\n",
    "ax_right.set_xlabel('$w$')\n",
    "ax_right.set_ylabel('$c^\\star$')\n",
    "ax_right.grid(True)\n",
    "\n",
    "plt.show()"
   ]
  },
  {
   "cell_type": "markdown",
   "metadata": {},
   "source": [
    "# Question 3"
   ]
  },
  {
   "cell_type": "markdown",
   "metadata": {},
   "source": [
    "In this problem we generate a sequence of 10000 random numbers from a uniform distribution to represent the individual wages of the 10000 people in the population. These numbers are saved to a list. We then create a for loop which appends the optimal amount of labour for each individual consumer given their wage and saves these to a list.\n",
    "Lastly, we use a lambda function to compute the tax revenue given the parameters and the lists of wages and labour respectively. "
   ]
  },
  {
   "cell_type": "code",
   "execution_count": 19,
   "metadata": {},
   "outputs": [
    {
     "name": "stdout",
     "output_type": "stream",
     "text": "3196.6947029870807\n"
    }
   ],
   "source": [
    "#Creating the wage list based on a uniform distribution\n",
    "N=10000\n",
    "np.random.seed(1986)\n",
    "wi_vec=np.random.uniform(0.5,1.5,size=N)\n",
    "\n",
    "#Adding empty lists to append to\n",
    "l_vec=np.empty(N)\n",
    "c_vec=np.empty(N)\n",
    "\n",
    "#Loop appending the optimal amount of labour to a new list\n",
    "for i,w in enumerate(wi_vec):\n",
    "    bundle=optimizer(w,e,v,params,m)\n",
    "    l_vec[i]=bundle[0]\n",
    "\n",
    "#Lambda function calculation the tax revenue based on the two lists containing wages and optimal amounts of labour respectiely. \n",
    "tax_rev=lambda l_vec,wi_vec: tau_0*wi_vec*l_vec+tau_1*np.fmax(wi_vec*l_vec-kappa,0)\n",
    "tax=tax_rev(l_vec,wi_vec)\n",
    "\n",
    "print(np.sum(tax))\n"
   ]
  },
  {
   "cell_type": "code",
   "execution_count": 10,
   "metadata": {},
   "outputs": [],
   "source": [
    "\n"
   ]
  },
  {
   "cell_type": "markdown",
   "metadata": {},
   "source": [
    "# Question 4"
   ]
  },
  {
   "cell_type": "markdown",
   "metadata": {},
   "source": [
    "This problem is entirely "
   ]
  },
  {
   "cell_type": "code",
   "execution_count": 18,
   "metadata": {},
   "outputs": [
    {
     "name": "stdout",
     "output_type": "stream",
     "text": "3196.6947029870807\n"
    }
   ],
   "source": [
    "e=0.1\n",
    "N=10000\n",
    "np.random.seed(1986)\n",
    "wi_vec=np.random.uniform(0.5,1.5,size=N)\n",
    "l_vec=np.empty(N)\n",
    "c_vec=np.empty(N)\n",
    "for i,w in enumerate(wi_vec):\n",
    "    bundle=optimizer(w,e,v,params,m)\n",
    "    l_vec[i]=bundle[0]\n",
    "\n",
    "\n",
    "tax_rev=lambda l_vec,wi_vec: tau_0*wi_vec*l_vec+tau_1*np.fmax(wi_vec*l_vec-kappa,0)\n",
    "tax=tax_rev(l_vec,wi_vec)\n",
    "\n",
    "print(np.sum(tax))"
   ]
  },
  {
   "cell_type": "markdown",
   "metadata": {},
   "source": [
    "# Question 5"
   ]
  },
  {
   "cell_type": "markdown",
   "metadata": {},
   "source": [
    "Here, we find the tax rates and tax cutoff, such that we maximize tax revenue given the consumer behavior. "
   ]
  },
  {
   "cell_type": "code",
   "execution_count": 11,
   "metadata": {},
   "outputs": [
    {
     "data": {
      "text/plain": "0.9999940391390134"
     },
     "execution_count": 11,
     "metadata": {},
     "output_type": "execute_result"
    }
   ],
   "source": [
    "#Optimerer mht. tau_0:\n",
    "def taxrev(tau_0,tau_1,wi_vec,l_vec,kappa):\n",
    "    \n",
    "    tax = np.sum(tau_0*wi_vec*l_vec+tau_1*np.fmax(wi_vec*l_vec-kappa,0))\n",
    "    return -tax\n",
    "\n",
    "def taxopt(wi_vec,tau_1,l_vec,kappa):\n",
    "    tauopt = optimize.minimize_scalar(\n",
    "        taxrev,method='bounded',\n",
    "        bounds=(0,1),args=(tau_1,wi_vec,l_vec,kappa))\n",
    "    løs = tauopt.x\n",
    "    return løs\n",
    "\n",
    "taxopt(tau_1,wi_vec,l_vec,kappa)\n"
   ]
  },
  {
   "cell_type": "markdown",
   "metadata": {},
   "source": [
    "# Conclusion"
   ]
  },
  {
   "cell_type": "markdown",
   "metadata": {},
   "source": [
    "We solved the consumer problem, yielding the optimal labour and consumption maximizing utility of the agent. \n",
    "Next, we calculated the expected tax revenue given the consumer preferences.\n"
   ]
  },
  {
   "cell_type": "code",
   "execution_count": 71,
   "metadata": {},
   "outputs": [
    {
     "ename": "TypeError",
     "evalue": "'numpy.float64' object is not callable",
     "output_type": "error",
     "traceback": [
      "\u001b[0;31m---------------------------------------------------------------------------\u001b[0m",
      "\u001b[0;31mTypeError\u001b[0m                                 Traceback (most recent call last)",
      "\u001b[0;32m<ipython-input-71-418d915ba827>\u001b[0m in \u001b[0;36m<module>\u001b[0;34m\u001b[0m\n\u001b[1;32m     14\u001b[0m     \u001b[0;32mreturn\u001b[0m \u001b[0mløs\u001b[0m\u001b[0;34m\u001b[0m\u001b[0;34m\u001b[0m\u001b[0m\n\u001b[1;32m     15\u001b[0m \u001b[0;34m\u001b[0m\u001b[0m\n\u001b[0;32m---> 16\u001b[0;31m \u001b[0mtaxopt\u001b[0m\u001b[0;34m(\u001b[0m\u001b[0mwi_vec\u001b[0m\u001b[0;34m,\u001b[0m\u001b[0ml_vec\u001b[0m\u001b[0;34m,\u001b[0m\u001b[0mparams\u001b[0m\u001b[0;34m)\u001b[0m\u001b[0;34m\u001b[0m\u001b[0;34m\u001b[0m\u001b[0m\n\u001b[0m",
      "\u001b[0;32m<ipython-input-71-418d915ba827>\u001b[0m in \u001b[0;36mtaxopt\u001b[0;34m(wi_vec, l_vec, params)\u001b[0m\n\u001b[1;32m     10\u001b[0m     tauopt = optimize.minimize(\n\u001b[1;32m     11\u001b[0m         \u001b[0mtaxrev\u001b[0m\u001b[0;34m(\u001b[0m\u001b[0mparams\u001b[0m\u001b[0;34m,\u001b[0m\u001b[0ml_vec\u001b[0m\u001b[0;34m,\u001b[0m\u001b[0mwi_vec\u001b[0m\u001b[0;34m)\u001b[0m\u001b[0;34m,\u001b[0m\u001b[0minitial\u001b[0m\u001b[0;34m,\u001b[0m \u001b[0mmethod\u001b[0m\u001b[0;34m=\u001b[0m\u001b[0;34m'SLSQP'\u001b[0m\u001b[0;34m,\u001b[0m\u001b[0;34m\u001b[0m\u001b[0;34m\u001b[0m\u001b[0m\n\u001b[0;32m---> 12\u001b[0;31m         bounds=[(0,1),(0,1),(0,None)])\n\u001b[0m\u001b[1;32m     13\u001b[0m     \u001b[0mløs\u001b[0m \u001b[0;34m=\u001b[0m \u001b[0mtauopt\u001b[0m\u001b[0;34m.\u001b[0m\u001b[0mx\u001b[0m\u001b[0;34m\u001b[0m\u001b[0;34m\u001b[0m\u001b[0m\n\u001b[1;32m     14\u001b[0m     \u001b[0;32mreturn\u001b[0m \u001b[0mløs\u001b[0m\u001b[0;34m\u001b[0m\u001b[0;34m\u001b[0m\u001b[0m\n",
      "\u001b[0;32m/opt/anaconda3/lib/python3.7/site-packages/scipy/optimize/_minimize.py\u001b[0m in \u001b[0;36mminimize\u001b[0;34m(fun, x0, args, method, jac, hess, hessp, bounds, constraints, tol, callback, options)\u001b[0m\n\u001b[1;32m    606\u001b[0m     \u001b[0;32melif\u001b[0m \u001b[0mmeth\u001b[0m \u001b[0;34m==\u001b[0m \u001b[0;34m'slsqp'\u001b[0m\u001b[0;34m:\u001b[0m\u001b[0;34m\u001b[0m\u001b[0;34m\u001b[0m\u001b[0m\n\u001b[1;32m    607\u001b[0m         return _minimize_slsqp(fun, x0, args, jac, bounds,\n\u001b[0;32m--> 608\u001b[0;31m                                constraints, callback=callback, **options)\n\u001b[0m\u001b[1;32m    609\u001b[0m     \u001b[0;32melif\u001b[0m \u001b[0mmeth\u001b[0m \u001b[0;34m==\u001b[0m \u001b[0;34m'trust-constr'\u001b[0m\u001b[0;34m:\u001b[0m\u001b[0;34m\u001b[0m\u001b[0;34m\u001b[0m\u001b[0m\n\u001b[1;32m    610\u001b[0m         return _minimize_trustregion_constr(fun, x0, args, jac, hess, hessp,\n",
      "\u001b[0;32m/opt/anaconda3/lib/python3.7/site-packages/scipy/optimize/slsqp.py\u001b[0m in \u001b[0;36m_minimize_slsqp\u001b[0;34m(func, x0, args, jac, bounds, constraints, maxiter, ftol, iprint, disp, eps, callback, **unknown_options)\u001b[0m\n\u001b[1;32m    397\u001b[0m \u001b[0;34m\u001b[0m\u001b[0m\n\u001b[1;32m    398\u001b[0m             \u001b[0;31m# Compute objective function\u001b[0m\u001b[0;34m\u001b[0m\u001b[0;34m\u001b[0m\u001b[0;34m\u001b[0m\u001b[0m\n\u001b[0;32m--> 399\u001b[0;31m             \u001b[0mfx\u001b[0m \u001b[0;34m=\u001b[0m \u001b[0mfunc\u001b[0m\u001b[0;34m(\u001b[0m\u001b[0mx\u001b[0m\u001b[0;34m)\u001b[0m\u001b[0;34m\u001b[0m\u001b[0;34m\u001b[0m\u001b[0m\n\u001b[0m\u001b[1;32m    400\u001b[0m             \u001b[0;32mtry\u001b[0m\u001b[0;34m:\u001b[0m\u001b[0;34m\u001b[0m\u001b[0;34m\u001b[0m\u001b[0m\n\u001b[1;32m    401\u001b[0m                 \u001b[0mfx\u001b[0m \u001b[0;34m=\u001b[0m \u001b[0mfloat\u001b[0m\u001b[0;34m(\u001b[0m\u001b[0mnp\u001b[0m\u001b[0;34m.\u001b[0m\u001b[0masarray\u001b[0m\u001b[0;34m(\u001b[0m\u001b[0mfx\u001b[0m\u001b[0;34m)\u001b[0m\u001b[0;34m)\u001b[0m\u001b[0;34m\u001b[0m\u001b[0;34m\u001b[0m\u001b[0m\n",
      "\u001b[0;32m/opt/anaconda3/lib/python3.7/site-packages/scipy/optimize/optimize.py\u001b[0m in \u001b[0;36mfunction_wrapper\u001b[0;34m(*wrapper_args)\u001b[0m\n\u001b[1;32m    324\u001b[0m     \u001b[0;32mdef\u001b[0m \u001b[0mfunction_wrapper\u001b[0m\u001b[0;34m(\u001b[0m\u001b[0;34m*\u001b[0m\u001b[0mwrapper_args\u001b[0m\u001b[0;34m)\u001b[0m\u001b[0;34m:\u001b[0m\u001b[0;34m\u001b[0m\u001b[0;34m\u001b[0m\u001b[0m\n\u001b[1;32m    325\u001b[0m         \u001b[0mncalls\u001b[0m\u001b[0;34m[\u001b[0m\u001b[0;36m0\u001b[0m\u001b[0;34m]\u001b[0m \u001b[0;34m+=\u001b[0m \u001b[0;36m1\u001b[0m\u001b[0;34m\u001b[0m\u001b[0;34m\u001b[0m\u001b[0m\n\u001b[0;32m--> 326\u001b[0;31m         \u001b[0;32mreturn\u001b[0m \u001b[0mfunction\u001b[0m\u001b[0;34m(\u001b[0m\u001b[0;34m*\u001b[0m\u001b[0;34m(\u001b[0m\u001b[0mwrapper_args\u001b[0m \u001b[0;34m+\u001b[0m \u001b[0margs\u001b[0m\u001b[0;34m)\u001b[0m\u001b[0;34m)\u001b[0m\u001b[0;34m\u001b[0m\u001b[0;34m\u001b[0m\u001b[0m\n\u001b[0m\u001b[1;32m    327\u001b[0m \u001b[0;34m\u001b[0m\u001b[0m\n\u001b[1;32m    328\u001b[0m     \u001b[0;32mreturn\u001b[0m \u001b[0mncalls\u001b[0m\u001b[0;34m,\u001b[0m \u001b[0mfunction_wrapper\u001b[0m\u001b[0;34m\u001b[0m\u001b[0;34m\u001b[0m\u001b[0m\n",
      "\u001b[0;31mTypeError\u001b[0m: 'numpy.float64' object is not callable"
     ]
    }
   ],
   "source": [
    "#NY OPTIMERING I OPGAVE 5:\n",
    "def taxrev(params,wi_vec,l_vec):\n",
    "    tax = np.sum(tau_0*wi_vec*l_vec+tau_1*np.fmax(wi_vec*l_vec-kappa,0))\n",
    "    return -tax\n",
    "\n",
    "initial=[0.5,0.5,1000]\n",
    "\n",
    "\n",
    "def taxopt(wi_vec,l_vec,params):\n",
    "    tauopt = optimize.minimize(\n",
    "        taxrev(params,l_vec,wi_vec),initial, method='SLSQP',\n",
    "        bounds=[(0,1),(0,1),(0,None)])\n",
    "    løs = tauopt.x\n",
    "    return løs\n",
    "\n",
    "taxopt(wi_vec,l_vec,params)"
   ]
  },
  {
   "cell_type": "code",
   "execution_count": null,
   "metadata": {},
   "outputs": [],
   "source": []
  }
 ],
 "metadata": {
  "kernelspec": {
   "display_name": "Python 3",
   "language": "python",
   "name": "python3"
  },
  "language_info": {
   "codemirror_mode": {
    "name": "ipython",
    "version": 3
   },
   "file_extension": ".py",
   "mimetype": "text/x-python",
   "name": "python",
   "nbconvert_exporter": "python",
   "pygments_lexer": "ipython3",
   "version": "3.7.4-final"
  },
  "toc-autonumbering": true
 },
 "nbformat": 4,
 "nbformat_minor": 4
}